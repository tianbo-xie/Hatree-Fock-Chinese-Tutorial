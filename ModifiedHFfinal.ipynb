{
 "cells": [
  {
   "cell_type": "code",
   "execution_count": 1,
   "id": "60b69d74",
   "metadata": {},
   "outputs": [],
   "source": [
    "import numpy as np\n",
    "from scipy.linalg import fractional_matrix_power\n",
    "import matplotlib.pyplot as plt\n",
    "from itertools import product\n",
    "from scipy.special import erf"
   ]
  },
  {
   "cell_type": "code",
   "execution_count": 2,
   "id": "23ced6dd",
   "metadata": {},
   "outputs": [],
   "source": [
    "def gaussian_norm(alpha):\n",
    "    \"\"\"Normalization constant\"\"\"\n",
    "    return (2 * alpha / np.pi) ** (3/4)\n",
    "\n",
    "def overlap_element(alpha, beta, A, B):\n",
    "    \"\"\"Overlap Integral S\"\"\"\n",
    "    p = alpha + beta\n",
    "    diff2 = np.dot(A - B, A - B)\n",
    "    return (np.pi / p)**(3/2) * np.exp(-alpha * beta / p * diff2)\n",
    "\n",
    "def kinetic_element(alpha, beta, A, B):\n",
    "    \"\"\"Kinetic Energy T\"\"\"\n",
    "    p = alpha + beta\n",
    "    diff2 = np.dot(A - B, A - B)\n",
    "    gamma = alpha * beta / p\n",
    "    return gamma * (3 - 2 * gamma * diff2) * (np.pi / p)**(3/2) * np.exp(-gamma * diff2)\n",
    "\n",
    "def nuclear_attraction_element(alpha, beta, A, B, C, Zc):\n",
    "    \"\"\"Electron-Nuclear V\"\"\"\n",
    "    p = alpha + beta\n",
    "    P = (alpha * A + beta * B) / p\n",
    "    diff2_AB = np.dot(A - B, A - B)\n",
    "    diff2_PC = np.dot(P - C, P - C)\n",
    "    boys0 = boys_function(p * diff2_PC)\n",
    "    return -Zc * 2 * np.pi / p * np.exp(-alpha * beta / p * diff2_AB) * boys0\n",
    "\n",
    "def boys_function(x):\n",
    "    \"\"\"F_0(x)\"\"\"\n",
    "    if x < 1e-10:\n",
    "        return 1.0 \n",
    "    else:\n",
    "        return 0.5 * (np.pi / x)**0.5 * erf(x**0.5)\n",
    "\n",
    "def build_one_electron_integrals(basis, atoms):\n",
    "    \"\"\"\n",
    "    basis: [(alpha, A), ...]  # alpha: coefficient, A: coordinate\n",
    "    atoms: [(Z, C), ...]  # Z: atomic number, C: coordinate\n",
    "    Return: S, T, V Matrices\n",
    "    \"\"\"\n",
    "    nbf = len(basis)  # Number of basis functions\n",
    "\n",
    "    S = np.zeros((nbf, nbf))\n",
    "    T = np.zeros((nbf, nbf))\n",
    "    V = np.zeros((nbf, nbf))\n",
    "\n",
    "    for i in range(nbf):\n",
    "        alpha_i, A = basis[i]\n",
    "        Ni = gaussian_norm(alpha_i)\n",
    "        for j in range(i+1):\n",
    "            alpha_j, B = basis[j]\n",
    "            Nj = gaussian_norm(alpha_j)\n",
    "\n",
    "            # Normalization constants\n",
    "            Sij = Ni * Nj * overlap_element(alpha_i, alpha_j, A, B)\n",
    "            Tij = Ni * Nj * kinetic_element(alpha_i, alpha_j, A, B)\n",
    "\n",
    "            Vij = 0.0\n",
    "            for Zc, C in atoms:\n",
    "                Vij += Ni * Nj * nuclear_attraction_element(alpha_i, alpha_j, A, B, C, Zc)\n",
    "\n",
    "            S[i,j] = S[j,i] = Sij\n",
    "            \n",
    "            T[i,j] = T[j,i] = Tij\n",
    "            \n",
    "            V[i,j] = V[j,i] = Vij\n",
    "           \n",
    "\n",
    "    return S, T, V"
   ]
  },
  {
   "cell_type": "code",
   "execution_count": 3,
   "id": "ec209913",
   "metadata": {},
   "outputs": [],
   "source": [
    "def eint(a,b,c,d): # Return compound index given four indices using Yoshimine sort\n",
    "    if a > b: ab = a*(a+1)/2 + b\n",
    "    else: ab = b*(b+1)/2 + a\n",
    "    if c > d: cd = c*(c+1)/2 + d\n",
    "    else: cd = d*(d+1)/2 + c\n",
    "    if ab > cd: abcd = ab*(ab+1)/2 + cd\n",
    "    else: abcd = cd*(cd+1)/2 + ab\n",
    "\n",
    "    return abcd"
   ]
  },
  {
   "cell_type": "code",
   "execution_count": 4,
   "id": "fdedf073",
   "metadata": {},
   "outputs": [],
   "source": [
    "def tei(a, b, c, d): # Return value of two electron integral\n",
    "    return twoe.get(eint(a, b, c, d), 0) "
   ]
  },
  {
   "cell_type": "code",
   "execution_count": 5,
   "id": "2d730c43",
   "metadata": {},
   "outputs": [],
   "source": [
    "def fprime(X, F): # Put Fock matrix in orthonormal AO basis\n",
    "    return np.dot(np.transpose(X), np.dot(F, X)) "
   ]
  },
  {
   "cell_type": "code",
   "execution_count": 6,
   "id": "36bf5f7e",
   "metadata": {},
   "outputs": [],
   "source": [
    "def makedensity(C, D, dim, Nelec): # Make density matrix and store old one to test for convergence\n",
    "    Dold = np.zeros((dim, dim))\n",
    "    for mu in range(0, dim):\n",
    "        for nu in range(0, dim):\n",
    "            Dold[mu,nu] = D[mu, nu]\n",
    "            D[mu,nu] = 0\n",
    "            for m in range(0, int(Nelec/2)):\n",
    "                D[mu,nu] = D[mu,nu] + 2*C[mu,m]*C[nu,m]\n",
    "\n",
    "    return D, Dold "
   ]
  },
  {
   "cell_type": "code",
   "execution_count": 7,
   "id": "c842145f",
   "metadata": {},
   "outputs": [],
   "source": [
    "def makefock(Hcore, P, dim):\n",
    "    \"\"\"Make Fock Matrix using tensor operations.\"\"\"\n",
    "    F = Hcore.copy()\n",
    "    tei_tensor = np.zeros((dim, dim, dim, dim))\n",
    "\n",
    "    # Build the two-electron integral tensor\n",
    "    for i, j, k, l in product(range(dim), repeat=4):\n",
    "        tei_tensor[i, j, k, l] = tei(i, j, k, l)\n",
    "\n",
    "    # Compute the Fock matrix using tensor operations\n",
    "    F += np.einsum('kl,ijkl->ij', P, tei_tensor) - 0.5 * np.einsum('kl,ilkj->ij', P, tei_tensor)\n",
    "\n",
    "    return F"
   ]
  },
  {
   "cell_type": "code",
   "execution_count": 8,
   "id": "8f3d0c68",
   "metadata": {},
   "outputs": [],
   "source": [
    "\n",
    "def deltap(D, Dold): # Calculate change in density matrix using Root Mean Square Deviation (RMSD)\n",
    "    DELTA = 0.0\n",
    "    for i in range(0, dim):\n",
    "        for j in range(0, dim):\n",
    "            DELTA = DELTA + ((D[i,j] - Dold[i,j])**2)\n",
    "\n",
    "    return (DELTA)**(0.5)"
   ]
  },
  {
   "cell_type": "code",
   "execution_count": 9,
   "id": "43eb1a01",
   "metadata": {},
   "outputs": [],
   "source": [
    "def currentenergy(D, Hcore, F, dim): # Calculate energy at iteration\n",
    "    EN = 0\n",
    "    for mu in range(0, dim):\n",
    "        for nu in range(0, dim):\n",
    "            EN += 0.5*D[mu,nu]*(Hcore[mu,nu] + F[mu,nu])\n",
    "            \n",
    "    return EN"
   ]
  },
  {
   "cell_type": "code",
   "execution_count": 10,
   "id": "85f0565d",
   "metadata": {},
   "outputs": [],
   "source": [
    "def nucnucenergy(atoms):\n",
    "    \"\"\"Calculate nuclear-nuclear repulsion energy\"\"\"\n",
    "    EN = 0\n",
    "    for i in range(len(atoms)):\n",
    "        for j in range(i+1, len(atoms)):\n",
    "            Z1, A1 = atoms[i]\n",
    "            Z2, A2 = atoms[j]\n",
    "            r = np.linalg.norm(A1 - A2)\n",
    "            EN += Z1 * Z2 / r\n",
    "    return EN"
   ]
  },
  {
   "cell_type": "code",
   "execution_count": 11,
   "id": "966287b8",
   "metadata": {},
   "outputs": [],
   "source": [
    "\n",
    "def electron_repulsion_integral(alpha_i, A, alpha_j, B, alpha_k, C, alpha_l, D):\n",
    "    \"\"\"Compute the (ij|kl) electron repulsion integral.\"\"\"\n",
    "    Ni = gaussian_norm(alpha_i)\n",
    "    Nj = gaussian_norm(alpha_j)\n",
    "    Nk = gaussian_norm(alpha_k)\n",
    "    Nl = gaussian_norm(alpha_l)\n",
    "    p = alpha_i + alpha_j\n",
    "    q = alpha_k + alpha_l\n",
    "    P = (alpha_i * A + alpha_j * B) / p\n",
    "    Q = (alpha_k * C + alpha_l * D) / q\n",
    "    RPQ2 = np.dot(P - Q, P - Q)\n",
    "    value = (2 * np.pi ** 2.5) / (p * q * np.sqrt(p + q)) \\\n",
    "            * np.exp(-alpha_i * alpha_j * np.dot(A - B, A - B) / p) \\\n",
    "            * np.exp(-alpha_k * alpha_l * np.dot(C - D, C - D) / q) \\\n",
    "            * boys_function(p * q * RPQ2 / (p + q))\n",
    "    return Ni * Nj * Nk * Nl * value\n",
    "\n",
    "def build_twoe_dict(basis):\n",
    "    \"\"\"Build the two-electron integral dictionary.\"\"\"\n",
    "    twoe = {}\n",
    "    nbf = len(basis)\n",
    "    for i, j, k, l in product(range(nbf), repeat=4):\n",
    "        val = electron_repulsion_integral(basis[i][0], basis[i][1], basis[j][0], basis[j][1],\n",
    "                                          basis[k][0], basis[k][1], basis[l][0], basis[l][1])\n",
    "        twoe[eint(i,j,k,l)] = val\n",
    "    return twoe"
   ]
  },
  {
   "cell_type": "code",
   "execution_count": 12,
   "id": "b854bbd9",
   "metadata": {},
   "outputs": [],
   "source": [
    "dim =2\n",
    "charge = 1 \n",
    "basis = [\n",
    "    (0.4166, np.array([0.0, 0.0, 0])),  # H：alpha=0.4166，origin\n",
    "    (0.7739, np.array([0.0, 0.0, 1.5117]))   # He：alpha=0.7739，R=1.5117\n",
    "]\n",
    "\n",
    "atoms = [\n",
    "    (1, np.array([0.0, 0.0, 0])),  # charge for H core and coordinate \n",
    "    (2, np.array([0.0, 0.0,  1.5117]))   # He\n",
    "]\n",
    "\n",
    "total_nuclear_charge = sum(atom[0] for atom in atoms)\n",
    "Nelec = total_nuclear_charge - charge"
   ]
  },
  {
   "cell_type": "code",
   "execution_count": 13,
   "id": "649104ce",
   "metadata": {},
   "outputs": [
    {
     "data": {
      "image/png": "[encoded data removed]",
      "text/plain": [
       "<Figure size 640x480 with 1 Axes>"
      ]
     },
     "metadata": {},
     "output_type": "display_data"
    },
    {
     "name": "stdout",
     "output_type": "stream",
     "text": [
      "SCF procedure complete, TOTAL E(SCF) = -2.444234522670737 hartrees\n"
     ]
    }
   ],
   "source": [
    "\n",
    "S, T, V = build_one_electron_integrals(basis, atoms)\n",
    "\n",
    "Hcore = T + V\n",
    "\n",
    "Enuc = nucnucenergy(atoms) # 核间能量\n",
    "\n",
    "S_minhalf= fractional_matrix_power(S,-0.5)\n",
    "\n",
    "\n",
    "P   = np.zeros((dim, dim))\n",
    "\n",
    "twoe = build_twoe_dict(basis)\n",
    "\n",
    "\n",
    "DELTA        = 1 \n",
    "count        = 0 \n",
    "energy_list  = []  \n",
    "\n",
    "while DELTA > 0.000001:\n",
    "    count     += 1\n",
    "    F         = makefock(Hcore, P, dim)\n",
    "    Fprime    = fprime(S_minhalf, F)\n",
    "    E, Cprime = np.linalg.eigh(Fprime)\n",
    "    C         = np.dot(S_minhalf, Cprime)\n",
    "    P, OLDP   = makedensity(C, P, dim, Nelec)\n",
    "    DELTA     = deltap(P, OLDP)\n",
    "    \n",
    "    current_E = currentenergy(P, Hcore, F, dim) + Enuc  # 这次迭代的总能量\n",
    "    energy_list.append(current_E)                      # 加进能量变化列表\n",
    "    \n",
    "plt.figure()\n",
    "plt.plot(range(1, len(energy_list)+1), energy_list, marker='o')\n",
    "plt.xlabel('SCF Iteration')\n",
    "plt.ylabel('Total Energy (Hartree)')\n",
    "plt.title('SCF Energy Convergence')\n",
    "plt.grid(True)\n",
    "plt.show()\n",
    "\n",
    "print(\"SCF procedure complete, TOTAL E(SCF) = {} hartrees\".format(currentenergy(P, Hcore, F, dim) + Enuc))\n"
   ]
  }
 ],
 "metadata": {
  "kernelspec": {
   "display_name": "base",
   "language": "python",
   "name": "python3"
  },
  "language_info": {
   "codemirror_mode": {
    "name": "ipython",
    "version": 3
   },
   "file_extension": ".py",
   "mimetype": "text/x-python",
   "name": "python",
   "nbconvert_exporter": "python",
   "pygments_lexer": "ipython3",
   "version": "3.13.5"
  }
 },
 "nbformat": 4,
 "nbformat_minor": 5
}
